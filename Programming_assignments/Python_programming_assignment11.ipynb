{
 "cells": [
  {
   "cell_type": "markdown",
   "metadata": {},
   "source": [
    "# Python_programming_assignment11"
   ]
  },
  {
   "cell_type": "markdown",
   "metadata": {},
   "source": [
    "1. Write a Python program to find words which are greater than given length k?"
   ]
  },
  {
   "cell_type": "code",
   "execution_count": 11,
   "metadata": {},
   "outputs": [],
   "source": [
    "def words_greater_to_length(k):\n",
    "    s=input(\"Enter some value: \")\n",
    "    a=s.split()\n",
    "    for i in a:\n",
    "        if len(i)>k:\n",
    "            print(i)"
   ]
  },
  {
   "cell_type": "code",
   "execution_count": 12,
   "metadata": {},
   "outputs": [
    {
     "name": "stdout",
     "output_type": "stream",
     "text": [
      "Enter some value: python is a programming language\n",
      "python\n",
      "programming\n",
      "language\n"
     ]
    }
   ],
   "source": [
    "words_greater_to_length(3)"
   ]
  },
  {
   "cell_type": "markdown",
   "metadata": {},
   "source": [
    "2. Write a Python program for removing i-th character from a string?"
   ]
  },
  {
   "cell_type": "code",
   "execution_count": 31,
   "metadata": {},
   "outputs": [],
   "source": [
    "def removing_i_th_character(n):\n",
    "    s=input(\"enter a string: \")\n",
    "    b=[]\n",
    "    for i in range(len(s)):\n",
    "        if i==n:\n",
    "            continue\n",
    "        b.append(s[i])\n",
    "    return \"\".join(b)"
   ]
  },
  {
   "cell_type": "code",
   "execution_count": 32,
   "metadata": {},
   "outputs": [
    {
     "name": "stdout",
     "output_type": "stream",
     "text": [
      "enter a string: python is a programming language\n"
     ]
    },
    {
     "data": {
      "text/plain": [
       "'pyhon is a programming language'"
      ]
     },
     "execution_count": 32,
     "metadata": {},
     "output_type": "execute_result"
    }
   ],
   "source": [
    "removing_i_th_character(2)"
   ]
  },
  {
   "cell_type": "markdown",
   "metadata": {},
   "source": [
    "3. Write a Python program to split and join a string?"
   ]
  },
  {
   "cell_type": "code",
   "execution_count": 39,
   "metadata": {},
   "outputs": [],
   "source": [
    "def split_and_join():\n",
    "    s=input(\"enter a string- \")\n",
    "    a=s.split()\n",
    "    print(\"After splitting- \",a)\n",
    "    print(\"After joining- \",\" \".join(a))"
   ]
  },
  {
   "cell_type": "code",
   "execution_count": 40,
   "metadata": {},
   "outputs": [
    {
     "name": "stdout",
     "output_type": "stream",
     "text": [
      "enter a string- python is a programming language\n",
      "After splitting-  ['python', 'is', 'a', 'programming', 'language']\n",
      "After joining-  python is a programming language\n"
     ]
    }
   ],
   "source": [
    "split_and_join()"
   ]
  },
  {
   "cell_type": "markdown",
   "metadata": {},
   "source": [
    "4. Write a Python to check if a given string is binary string or not?"
   ]
  },
  {
   "cell_type": "code",
   "execution_count": 9,
   "metadata": {},
   "outputs": [],
   "source": [
    "def binary_or_not(s):\n",
    "    a=\"01\"\n",
    "    for i in s:\n",
    "        if i in a:\n",
    "            print(\"binary\")\n",
    "            break\n",
    "    else:\n",
    "        print(\"it's not a binary string\")"
   ]
  },
  {
   "cell_type": "code",
   "execution_count": 11,
   "metadata": {},
   "outputs": [
    {
     "name": "stdout",
     "output_type": "stream",
     "text": [
      "binary\n"
     ]
    }
   ],
   "source": [
    "binary_or_not(\"mohit10\")"
   ]
  },
  {
   "cell_type": "markdown",
   "metadata": {},
   "source": [
    "5. Write a Python program to find uncommon words from two Strings?"
   ]
  },
  {
   "cell_type": "code",
   "execution_count": 20,
   "metadata": {},
   "outputs": [],
   "source": [
    "s1=\"Python is programming language\"\n",
    "s2=\"Java is programming language\"\n",
    "\n",
    "a=s1.split()\n",
    "b=s2.split()\n",
    "c=[]\n",
    "for i in a:\n",
    "    if i not in b:\n",
    "        c.append(i)\n",
    "for j in b:\n",
    "    if j not in a:\n",
    "        c.append(j)"
   ]
  },
  {
   "cell_type": "code",
   "execution_count": 22,
   "metadata": {},
   "outputs": [
    {
     "data": {
      "text/plain": [
       "['Python', 'Java']"
      ]
     },
     "execution_count": 22,
     "metadata": {},
     "output_type": "execute_result"
    }
   ],
   "source": [
    "c"
   ]
  },
  {
   "cell_type": "markdown",
   "metadata": {},
   "source": [
    "6. Write a Python to find all duplicate characters in string"
   ]
  },
  {
   "cell_type": "code",
   "execution_count": 58,
   "metadata": {},
   "outputs": [
    {
     "name": "stdout",
     "output_type": "stream",
     "text": [
      "p : 2\n",
      "o : 2\n",
      "n : 3\n",
      "  : 4\n",
      "i : 2\n",
      "a : 4\n",
      "r : 2\n",
      "g : 4\n",
      "m : 2\n"
     ]
    }
   ],
   "source": [
    "s=\"python is a programming language\"\n",
    "d={}\n",
    "\n",
    "for i in s:\n",
    "    if i in d.keys():\n",
    "        d[i]=d[i]+1\n",
    "    else:\n",
    "        d[i]=1\n",
    "for j in d.keys():\n",
    "    if d[j]>1:\n",
    "        print(j,\":\",d[j])"
   ]
  },
  {
   "cell_type": "markdown",
   "metadata": {},
   "source": [
    "7. Write a Python Program to check if a string contains any special character?"
   ]
  },
  {
   "cell_type": "code",
   "execution_count": 73,
   "metadata": {},
   "outputs": [
    {
     "name": "stdout",
     "output_type": "stream",
     "text": [
      "enter a string: Python is a programming language\n",
      "String not contains speacial characters\n"
     ]
    }
   ],
   "source": [
    "s=input(\"enter a string: \")\n",
    "special=\"!@#$%^&*()_-~/\\{}\"\n",
    "\n",
    "for i in s:\n",
    "    if i in special:\n",
    "        print(\"String contains speacial characters\")\n",
    "        break\n",
    "else:\n",
    "    print(\"String not contains speacial characters\")"
   ]
  },
  {
   "cell_type": "code",
   "execution_count": null,
   "metadata": {},
   "outputs": [],
   "source": []
  }
 ],
 "metadata": {
  "kernelspec": {
   "display_name": "Python 3",
   "language": "python",
   "name": "python3"
  },
  "language_info": {
   "codemirror_mode": {
    "name": "ipython",
    "version": 3
   },
   "file_extension": ".py",
   "mimetype": "text/x-python",
   "name": "python",
   "nbconvert_exporter": "python",
   "pygments_lexer": "ipython3",
   "version": "3.7.6"
  }
 },
 "nbformat": 4,
 "nbformat_minor": 4
}
